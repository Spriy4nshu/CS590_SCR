{
 "cells": [
  {
   "cell_type": "code",
   "execution_count": null,
   "metadata": {},
   "outputs": [],
   "source": [
    "\n",
    "\n",
    "# Create directories to hold models and logs\n",
    "model_dir = \"models\"\n",
    "log_dir = \"logs\"\n",
    "os.makedirs(model_dir, exist_ok=True)\n",
    "os.makedirs(log_dir, exist_ok=True)\n",
    "\n",
    "def train(env, sb3_algo):\n",
    "    match sb3_algo:\n",
    "        case 'SAC':\n",
    "            model = SAC('MlpPolicy', env, verbose=1, device='cuda', tensorboard_log=log_dir)\n",
    "        case 'TD3':\n",
    "            model = TD3('MlpPolicy', env, verbose=1, device='cuda', tensorboard_log=log_dir)\n",
    "        case 'A2C':\n",
    "            model = A2C('MlpPolicy', env, verbose=1, device='cuda', tensorboard_log=log_dir)\n",
    "        case _:\n",
    "            print('Algorithm not found')\n",
    "            return\n",
    "\n",
    "    TIMESTEPS = 25000\n",
    "    iters = 0\n",
    "    while True:\n",
    "        iters += 1\n",
    "\n",
    "        model.learn(total_timesteps=TIMESTEPS, reset_num_timesteps=False)\n",
    "        model.save(f\"{model_dir}/{sb3_algo}_{TIMESTEPS*iters}\")\n",
    "\n",
    "def test(env, sb3_algo, path_to_model):\n",
    "\n",
    "    match sb3_algo:\n",
    "        case 'SAC':\n",
    "            model = SAC.load(path_to_model, env=env)\n",
    "        case 'TD3':\n",
    "            model = TD3.load(path_to_model, env=env)\n",
    "        case 'A2C':\n",
    "            model = A2C.load(path_to_model, env=env)\n",
    "        case _:\n",
    "            print('Algorithm not found')\n",
    "            return\n",
    "\n",
    "    obs = env.reset()[0]\n",
    "    done = False\n",
    "    extra_steps = 500\n",
    "    while True:\n",
    "        action, _ = model.predict(obs)\n",
    "        obs, _, done, _, _ = env.step(action)\n",
    "\n",
    "        if done:\n",
    "            extra_steps -= 1\n",
    "\n",
    "            if extra_steps < 0:\n",
    "                break\n",
    "\n",
    "\n",
    "if __name__ == '__main__':\n",
    "\n",
    "    # Parse command line inputs\n",
    "    parser = argparse.ArgumentParser(description='Train or test model.')\n",
    "    parser.add_argument('gymenv', help='Gymnasium environment i.e. Humanoid-v4')\n",
    "    parser.add_argument('sb3_algo', help='StableBaseline3 RL algorithm i.e. SAC, TD3')\n",
    "    parser.add_argument('-t', '--train', action='store_true')\n",
    "    parser.add_argument('-s', '--test', metavar='path_to_model')\n",
    "    args = parser.parse_args()\n",
    "\n",
    "\n",
    "    if args.train:\n",
    "        gymenv = gym.make(args.gymenv, render_mode=None)\n",
    "        train(gymenv, args.sb3_algo)\n",
    "\n",
    "    if(args.test):\n",
    "        if os.path.isfile(args.test):\n",
    "            gymenv = gym.make(args.gymenv, render_mode='human')\n",
    "            test(gymenv, args.sb3_algo, path_to_model=args.test)\n",
    "        else:\n",
    "            print(f'{args.test} not found.')\n"
   ]
  },
  {
   "cell_type": "code",
   "execution_count": 1,
   "metadata": {},
   "outputs": [
    {
     "ename": "ModuleNotFoundError",
     "evalue": "No module named 'gymnasium'",
     "output_type": "error",
     "traceback": [
      "\u001b[0;31m---------------------------------------------------------------------------\u001b[0m",
      "\u001b[0;31mModuleNotFoundError\u001b[0m                       Traceback (most recent call last)",
      "Cell \u001b[0;32mIn[1], line 1\u001b[0m\n\u001b[0;32m----> 1\u001b[0m \u001b[38;5;28;01mimport\u001b[39;00m \u001b[38;5;21;01mgymnasium\u001b[39;00m \u001b[38;5;28;01mas\u001b[39;00m \u001b[38;5;21;01mgym\u001b[39;00m\n\u001b[1;32m      2\u001b[0m \u001b[38;5;28;01mfrom\u001b[39;00m \u001b[38;5;21;01mstable_baselines3\u001b[39;00m \u001b[38;5;28;01mimport\u001b[39;00m SAC, TD3, A2C\n\u001b[1;32m      3\u001b[0m \u001b[38;5;28;01mimport\u001b[39;00m \u001b[38;5;21;01mos\u001b[39;00m\n",
      "\u001b[0;31mModuleNotFoundError\u001b[0m: No module named 'gymnasium'"
     ]
    }
   ],
   "source": [
    "import gymnasium as gym\n",
    "from stable_baselines3 import SAC, TD3, A2C\n",
    "import os\n",
    "import argparse"
   ]
  }
 ],
 "metadata": {
  "kernelspec": {
   "display_name": "scr",
   "language": "python",
   "name": "python3"
  },
  "language_info": {
   "codemirror_mode": {
    "name": "ipython",
    "version": 3
   },
   "file_extension": ".py",
   "mimetype": "text/x-python",
   "name": "python",
   "nbconvert_exporter": "python",
   "pygments_lexer": "ipython3",
   "version": "3.12.2"
  }
 },
 "nbformat": 4,
 "nbformat_minor": 2
}
